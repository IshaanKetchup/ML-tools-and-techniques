{
  "nbformat": 4,
  "nbformat_minor": 0,
  "metadata": {
    "colab": {
      "provenance": [],
      "authorship_tag": "ABX9TyOgXqLHKWS/MCe2ZBk0v5Pa",
      "include_colab_link": true
    },
    "kernelspec": {
      "name": "python3",
      "display_name": "Python 3"
    },
    "language_info": {
      "name": "python"
    }
  },
  "cells": [
    {
      "cell_type": "markdown",
      "metadata": {
        "id": "view-in-github",
        "colab_type": "text"
      },
      "source": [
        "<a href=\"https://colab.research.google.com/github/IshaanKetchup/ML-tools-and-techniques/blob/main/Reinforcement%20Learning%20-%20Q%20Learning%20vs.%20Policy%20Gradient.ipynb\" target=\"_parent\"><img src=\"https://colab.research.google.com/assets/colab-badge.svg\" alt=\"Open In Colab\"/></a>"
      ]
    },
    {
      "cell_type": "code",
      "execution_count": null,
      "metadata": {
        "id": "57dNqlCuMlCl"
      },
      "outputs": [],
      "source": [
        "!pip install numpy tensorflow matplotlib"
      ]
    },
    {
      "cell_type": "markdown",
      "source": [
        "#Activity Description\n",
        " simple grid environment (5 × 5) in which the agent starts at a random position and must navigate to a goal state while avoiding pitfalls. The environment includes:\n",
        "\n",
        "States: each cell on the grid is a unique state.\n",
        "\n",
        "Actions: the agent can move up, down, left, or right.\n",
        "\n",
        "Rewards:\n",
        "\n",
        "+10 for reaching the goal state (position 24).\n",
        "\n",
        "–10 for falling into a pit (position 12).\n",
        "\n",
        "–1 for all other movements (to encourage faster goal-reaching)."
      ],
      "metadata": {
        "id": "x94zdLgvUluv"
      }
    },
    {
      "cell_type": "markdown",
      "source": [
        "#Q Learning\n"
      ],
      "metadata": {
        "id": "3BpJy_XmUgp3"
      }
    },
    {
      "cell_type": "markdown",
      "source": [
        "##Initialize Q table"
      ],
      "metadata": {
        "id": "iXwWCeLYUeKW"
      }
    },
    {
      "cell_type": "code",
      "source": [
        "import numpy as np\n",
        "\n",
        "# Define the grid size and actions\n",
        "grid_size = 5\n",
        "n_actions = 4  # Actions: up, down, left, right\n",
        "\n",
        "# Initialize the Q-table with zeros\n",
        "Q_table = np.zeros((grid_size * grid_size, n_actions))"
      ],
      "metadata": {
        "id": "BsNdeZGPUWbs"
      },
      "execution_count": 1,
      "outputs": []
    },
    {
      "cell_type": "markdown",
      "source": [
        "##Define Hyperparameters"
      ],
      "metadata": {
        "id": "3fyvvvt6UrZn"
      }
    },
    {
      "cell_type": "code",
      "source": [
        "alpha = 0.1  # Learning rate\n",
        "gamma = 0.9  # Discount factor for future rewards\n",
        "epsilon = 0.1  # Exploration rate for epsilon-greedy policy"
      ],
      "metadata": {
        "id": "9OOd4yg7Usaq"
      },
      "execution_count": 2,
      "outputs": []
    },
    {
      "cell_type": "markdown",
      "source": [
        "##Define Reward Structure"
      ],
      "metadata": {
        "id": "NHou4hRLUuDw"
      }
    },
    {
      "cell_type": "code",
      "source": [
        "# Reward matrix for the grid environment\n",
        "rewards = np.full((grid_size * grid_size,), -1)  # -1 for every state\n",
        "rewards[24] = 10  # Goal state\n",
        "rewards[12] = -10  # Pitfall state"
      ],
      "metadata": {
        "id": "ZCKns75HUsmH"
      },
      "execution_count": 3,
      "outputs": []
    },
    {
      "cell_type": "markdown",
      "source": [
        "##Implement Epsilon Greedy"
      ],
      "metadata": {
        "id": "CjMpyP2dU9W2"
      }
    },
    {
      "cell_type": "code",
      "source": [
        "def epsilon_greedy_action(Q_table, state, epsilon):\n",
        "    if np.random.uniform(0, 1) < epsilon:\n",
        "        return np.random.randint(0, n_actions)  # Explore: random action\n",
        "    else:\n",
        "        return np.argmax(Q_table[state])  # Exploit: action with highest Q-value"
      ],
      "metadata": {
        "id": "sbobOsyWUvco"
      },
      "execution_count": 4,
      "outputs": []
    },
    {
      "cell_type": "markdown",
      "source": [
        "##Update Q-Values"
      ],
      "metadata": {
        "id": "_Ul6T5TgVBl-"
      }
    },
    {
      "cell_type": "code",
      "source": [
        "rewards_q_learning = []  # Track total reward per episode\n",
        "for episode in range(1000):\n",
        "    state = np.random.randint(0, grid_size * grid_size)\n",
        "    done = False\n",
        "    total_reward = 0  # Track cumulative reward this episode\n",
        "\n",
        "    while not done:\n",
        "        action = epsilon_greedy_action(Q_table, state, epsilon)\n",
        "        next_state = np.random.randint(0, grid_size * grid_size)  # Simulated transition\n",
        "        reward = rewards[next_state]\n",
        "        total_reward += reward\n",
        "\n",
        "        # Bellman update\n",
        "        Q_table[state, action] += alpha * (\n",
        "            reward + gamma * np.max(Q_table[next_state]) - Q_table[state, action]\n",
        "        )\n",
        "\n",
        "        state = next_state\n",
        "\n",
        "        # Stop episode if agent reaches goal or pit\n",
        "        if state == 24 or state == 12:\n",
        "            done = True\n",
        "\n",
        "    rewards_q_learning.append(total_reward)\n"
      ],
      "metadata": {
        "id": "5wVIyM7pU_Os"
      },
      "execution_count": 5,
      "outputs": []
    },
    {
      "cell_type": "code",
      "source": [],
      "metadata": {
        "id": "dpAkcC5FVCtH"
      },
      "execution_count": null,
      "outputs": []
    },
    {
      "cell_type": "markdown",
      "source": [
        "#Policy Gradient"
      ],
      "metadata": {
        "id": "FVkqBd1cVJin"
      }
    },
    {
      "cell_type": "markdown",
      "source": [
        "##Build Policy Network"
      ],
      "metadata": {
        "id": "5zuXMZU8VMdf"
      }
    },
    {
      "cell_type": "code",
      "source": [
        "import tensorflow as tf\n",
        "\n",
        "# Define the policy network\n",
        "n_states = grid_size * grid_size  # Number of states in the grid\n",
        "n_actions = 4  # Up, down, left, right\n",
        "\n",
        "model = tf.keras.Sequential([\n",
        "    tf.keras.layers.Dense(24, activation='relu', input_shape=(n_states,)),\n",
        "    tf.keras.layers.Dense(n_actions, activation='softmax')  # Output action probabilities\n",
        "])\n",
        "\n",
        "# Optimizer for policy network updates\n",
        "optimizer = tf.keras.optimizers.Adam(learning_rate=0.01)"
      ],
      "metadata": {
        "id": "t6_OsBHHVKxX"
      },
      "execution_count": 10,
      "outputs": []
    },
    {
      "cell_type": "markdown",
      "source": [
        "##Select Action"
      ],
      "metadata": {
        "id": "Ei4pOHcXVRUm"
      }
    },
    {
      "cell_type": "code",
      "source": [
        "def get_action(state):\n",
        "    state_input = tf.one_hot(state, n_states)  # One-hot encoding for state\n",
        "    action_probs = model(state_input[np.newaxis, :])\n",
        "    return np.random.choice(n_actions, p=action_probs.numpy()[0])"
      ],
      "metadata": {
        "id": "oOhXiV-yVN3w"
      },
      "execution_count": 11,
      "outputs": []
    },
    {
      "cell_type": "markdown",
      "source": [
        "##Simulate Environment"
      ],
      "metadata": {
        "id": "k5UGuZRBVYgW"
      }
    },
    {
      "cell_type": "markdown",
      "source": [
        "##Compute Cumulative Rewards"
      ],
      "metadata": {
        "id": "DC1-aW48Vbs3"
      }
    },
    {
      "cell_type": "code",
      "source": [
        "def compute_cumulative_rewards(rewards, gamma=0.99):\n",
        "    cumulative_rewards = np.zeros_like(rewards)\n",
        "    running_add = 0\n",
        "    for t in reversed(range(len(rewards))):\n",
        "        running_add = running_add * gamma + rewards[t]\n",
        "        cumulative_rewards[t] = running_add\n",
        "    return cumulative_rewards"
      ],
      "metadata": {
        "id": "3PeeVutiVaHe"
      },
      "execution_count": 13,
      "outputs": []
    },
    {
      "cell_type": "markdown",
      "source": [
        "##Update Policy"
      ],
      "metadata": {
        "id": "VuBZwwtOVelg"
      }
    },
    {
      "cell_type": "code",
      "source": [
        "def update_policy(states, actions, rewards):\n",
        "    cumulative_rewards = compute_cumulative_rewards(rewards)\n",
        "\n",
        "    with tf.GradientTape() as tape:\n",
        "        state_inputs = tf.one_hot(states, n_states)  # Convert states to one-hot encoding\n",
        "        action_probs = model(state_inputs)\n",
        "        action_masks = tf.one_hot(actions, n_actions)  # Mask for selected actions\n",
        "        log_probs = tf.reduce_sum(action_masks * tf.math.log(action_probs), axis=1)\n",
        "\n",
        "        # Policy loss is the negative log-probability of the action times the cumulative reward\n",
        "        loss = -tf.reduce_mean(log_probs * cumulative_rewards)\n",
        "\n",
        "    # Apply gradients to update the policy network\n",
        "    grads = tape.gradient(loss, model.trainable_variables)\n",
        "    optimizer.apply_gradients(zip(grads, model.trainable_variables))"
      ],
      "metadata": {
        "id": "YY6srhBEVdIf"
      },
      "execution_count": 14,
      "outputs": []
    },
    {
      "cell_type": "code",
      "source": [
        "rewards_policy_gradients = []  # Track total reward per episode\n",
        "\n",
        "for episode in range(1000):\n",
        "    state = np.random.randint(0, n_states)\n",
        "    done = False\n",
        "\n",
        "    episode_states = []\n",
        "    episode_actions = []\n",
        "    episode_rewards = []\n",
        "\n",
        "    while not done:\n",
        "        action = get_action(state)\n",
        "        next_state = np.random.randint(0, n_states)\n",
        "        reward = rewards[next_state]\n",
        "\n",
        "        episode_states.append(state)\n",
        "        episode_actions.append(action)\n",
        "        episode_rewards.append(reward)\n",
        "\n",
        "        state = next_state\n",
        "        if next_state in {24, 12}:  # goal or pit\n",
        "            done = True\n",
        "\n",
        "    # Update policy after the episode\n",
        "    update_policy(episode_states, episode_actions, episode_rewards)\n",
        "\n",
        "    # Track cumulative reward for this episode\n",
        "    total_reward = sum(episode_rewards)\n",
        "    rewards_policy_gradients.append(total_reward)\n"
      ],
      "metadata": {
        "id": "XhaHahQRVTBP"
      },
      "execution_count": 18,
      "outputs": []
    },
    {
      "cell_type": "markdown",
      "source": [
        "#Comparison and Analysis"
      ],
      "metadata": {
        "id": "5SgDN2ZhVjYu"
      }
    },
    {
      "cell_type": "code",
      "source": [
        "import matplotlib.pyplot as plt\n",
        "\n",
        "# Example code to visualize rewards over episodes\n",
        "plt.plot(rewards_q_learning, label='Q-Learning')\n",
        "plt.plot(rewards_policy_gradients, label='Policy Gradients')\n",
        "plt.xlabel('Episodes')\n",
        "plt.ylabel('Cumulative Rewards')\n",
        "plt.legend()\n",
        "plt.show()"
      ],
      "metadata": {
        "colab": {
          "base_uri": "https://localhost:8080/",
          "height": 449
        },
        "id": "Br9US66pVf6o",
        "outputId": "fc16c098-8321-439a-d48e-5655434ab03e"
      },
      "execution_count": 19,
      "outputs": [
        {
          "output_type": "display_data",
          "data": {
            "text/plain": [
              "<Figure size 640x480 with 1 Axes>"
            ],
            "image/png": "[encoded data removed]"
          },
          "metadata": {}
        }
      ]
    },
    {
      "cell_type": "markdown",
      "source": [
        "1. High Variance (Spiky Behavior)\n",
        "Both Q-Learning and Policy Gradients have high variance in their episode rewards.\n",
        "\n",
        "You can see a lot of sudden drops down to –50, –70, or even –100. These represent episodes where the agent fell into the pit or wandered inefficiently before reaching the goal.\n",
        "\n",
        "2. No Clear Upward Trend\n",
        "Ideally, over time, you'd expect the reward to trend upward (closer to 10 consistently), showing that the agent is learning to reach the goal efficiently.\n",
        "\n",
        "\\\\\n",
        "In this plot, there's no consistent increase in either line. That means:\n",
        "\n",
        "The agents are not reliably improving.\n",
        "\n",
        "The training setup likely has issues—either:\n",
        "\n",
        "The environment is too stochastic (random),\n",
        "\n",
        "The rewards are too sparse,\n",
        "\n",
        "The learning rates or exploration settings aren't tuned properly.\n",
        "\n",
        "3. Policy Gradients are Slightly More Stable\n",
        "The orange line (Policy Gradients) looks more clustered toward higher rewards compared to Q-Learning.\n",
        "\n",
        "But it still shows frequent bad episodes."
      ],
      "metadata": {
        "id": "o8AcRPPl1Z8F"
      }
    },
    {
      "cell_type": "code",
      "source": [],
      "metadata": {
        "id": "9c3tSbexVlkG"
      },
      "execution_count": null,
      "outputs": []
    }
  ]
}