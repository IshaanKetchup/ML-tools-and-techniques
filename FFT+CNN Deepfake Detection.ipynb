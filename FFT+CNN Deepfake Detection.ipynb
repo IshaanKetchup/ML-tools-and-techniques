{
  "nbformat": 4,
  "nbformat_minor": 0,
  "metadata": {
    "colab": {
      "provenance": [],
      "gpuType": "T4",
      "authorship_tag": "ABX9TyPkGPYpjn6xnKSS9XjTIz+y",
      "include_colab_link": true
    },
    "kernelspec": {
      "name": "python3",
      "display_name": "Python 3"
    },
    "language_info": {
      "name": "python"
    },
    "accelerator": "GPU"
  },
  "cells": [
    {
      "cell_type": "markdown",
      "metadata": {
        "id": "view-in-github",
        "colab_type": "text"
      },
      "source": [
        "<a href=\"https://colab.research.google.com/github/IshaanKetchup/ML-tools-and-techniques/blob/main/FFT%2BCNN%20Deepfake%20Detection.ipynb\" target=\"_parent\"><img src=\"https://colab.research.google.com/assets/colab-badge.svg\" alt=\"Open In Colab\"/></a>"
      ]
    },
    {
      "cell_type": "code",
      "source": [
        "import os\n",
        "import numpy as np\n",
        "import pandas as pd\n",
        "import matplotlib.pyplot as plt\n",
        "import seaborn as sns\n",
        "from PIL import Image\n",
        "import cv2\n",
        "import tensorflow as tf\n",
        "from tensorflow.keras import layers, models\n",
        "from tensorflow.keras.applications import InceptionV3\n",
        "from sklearn.metrics import confusion_matrix, classification_report\n",
        "import warnings\n",
        "warnings.filterwarnings('ignore')\n",
        "os.environ['TF_FORCE_UNIFIED_MEMORY'] = '1'\n",
        "os.environ['TF_CPP_MIN_LOG_LEVEL'] = '3'\n",
        "tf.random.set_seed(42)\n",
        "np.random.seed(42)\n"
      ],
      "metadata": {
        "id": "Udvz3-EjCym-"
      },
      "execution_count": null,
      "outputs": []
    },
    {
      "cell_type": "code",
      "source": [
        "import kagglehub\n",
        "\n",
        "# Download dataset\n",
        "path = kagglehub.dataset_download(\"manjilkarki/deepfake-and-real-images\")\n",
        "print(\"Path to dataset files:\", path)\n",
        "\n",
        "dataset_path = \"/kaggle/input/deepfake-and-real-images/Dataset\"\n",
        "train_dir = os.path.join(dataset_path, \"Train\")\n",
        "val_dir = os.path.join(dataset_path, \"Validation\")\n"
      ],
      "metadata": {
        "colab": {
          "base_uri": "https://localhost:8080/"
        },
        "id": "zZQLGo2hCy25",
        "outputId": "b6931a3b-dbbc-4365-b87d-d3ba82bef272"
      },
      "execution_count": 68,
      "outputs": [
        {
          "output_type": "stream",
          "name": "stdout",
          "text": [
            "Path to dataset files: /kaggle/input/deepfake-and-real-images\n"
          ]
        }
      ]
    },
    {
      "cell_type": "code",
      "source": [
        "'''def balanced_sample(directory, classes, total_samples):\n",
        "    per_class = total_samples // len(classes)\n",
        "    filepaths = []\n",
        "    labels = []\n",
        "    for cls in classes:\n",
        "        cls_path = os.path.join(directory, cls)\n",
        "        cls_files = [os.path.join(cls_path, f) for f in os.listdir(cls_path) if f.lower().endswith(('png', 'jpg', 'jpeg'))]\n",
        "        selected = cls_files[:per_class]\n",
        "        filepaths.extend(selected)\n",
        "        labels.extend([cls] * len(selected))\n",
        "    return pd.DataFrame({'filename': filepaths, 'label': labels})\n",
        "\n",
        "train_df = balanced_sample(train_dir, ['Real', 'Fake'], 5000)\n",
        "val_df = balanced_sample(val_dir, ['Real', 'Fake'], 1000)\n",
        "'''"
      ],
      "metadata": {
        "id": "uyEQVDCXC0Oq"
      },
      "execution_count": null,
      "outputs": []
    },
    {
      "cell_type": "code",
      "source": [
        "def load_all_images(directory, classes):\n",
        "    filepaths = []\n",
        "    labels = []\n",
        "    for cls in classes:\n",
        "        cls_path = os.path.join(directory, cls)\n",
        "        cls_files = [os.path.join(cls_path, f) for f in os.listdir(cls_path) if f.lower().endswith(('png', 'jpg', 'jpeg'))]\n",
        "        filepaths.extend(cls_files)\n",
        "        labels.extend([cls] * len(cls_files))\n",
        "    return pd.DataFrame({'filename': filepaths, 'label': labels})\n"
      ],
      "metadata": {
        "id": "8yMpo4uyLLDJ"
      },
      "execution_count": 69,
      "outputs": []
    },
    {
      "cell_type": "code",
      "source": [
        "train_df = load_all_images(train_dir, ['Real', 'Fake'])\n",
        "val_df = load_all_images(val_dir, ['Real', 'Fake'])\n"
      ],
      "metadata": {
        "id": "ZiF06Sd5LONY"
      },
      "execution_count": 70,
      "outputs": []
    },
    {
      "cell_type": "markdown",
      "source": [
        "##FFT Image Data Generator\n",
        "The FFTImageDataGenerator class is a custom data generator used to load and preprocess image data on the fly during model training or evaluation\n",
        "\n"
      ],
      "metadata": {
        "id": "B6hmhTtjKX-L"
      }
    },
    {
      "cell_type": "code",
      "source": [
        "class FFTImageDataGenerator(tf.keras.utils.Sequence):\n",
        "    def __init__(self, df, batch_size=32, target_size=(224, 224), shuffle=True):\n",
        "        self.df = df.reset_index(drop=True)\n",
        "        self.batch_size = batch_size\n",
        "        self.target_size = target_size\n",
        "        self.shuffle = shuffle\n",
        "        self.indices = np.arange(len(df))\n",
        "        self.on_epoch_end()\n",
        "        self.label_map = {'Real': 0, 'Fake': 1}\n",
        "\n",
        "    def __len__(self):\n",
        "        return len(self.df) // self.batch_size\n",
        "\n",
        "    def on_epoch_end(self):\n",
        "        if self.shuffle:\n",
        "            np.random.shuffle(self.indices)\n",
        "\n",
        "    def __getitem__(self, idx):\n",
        "        batch_indices = self.indices[idx * self.batch_size:(idx + 1) * self.batch_size]\n",
        "        batch_x, batch_fft, batch_y = [], [], []\n",
        "\n",
        "        for i in batch_indices:\n",
        "            img_path = self.df.iloc[i]['filename']\n",
        "            label = self.label_map[self.df.iloc[i]['label']]\n",
        "\n",
        "            img = cv2.imread(img_path)\n",
        "            img = cv2.resize(img, self.target_size)\n",
        "            img_rgb = img.astype('float32') / 255.0\n",
        "            img_gray = cv2.cvtColor(img, cv2.COLOR_BGR2GRAY)\n",
        "            img_gray = cv2.resize(img_gray, self.target_size)\n",
        "\n",
        "            f = np.fft.fft2(img_gray)\n",
        "            fshift = np.fft.fftshift(f)\n",
        "            mag = 20 * np.log(np.abs(fshift) + 1e-8)\n",
        "            mag = cv2.normalize(mag, None, 0, 1, cv2.NORM_MINMAX)\n",
        "\n",
        "            fft_input = np.expand_dims(mag, axis=-1)\n",
        "\n",
        "            batch_x.append(img_rgb)\n",
        "            batch_fft.append(fft_input)\n",
        "            batch_y.append(label)\n",
        "\n",
        "        return (np.array(batch_x), np.array(batch_fft)), tf.keras.utils.to_categorical(batch_y, 2)\n",
        "\n",
        "\n",
        "\n",
        "train_gen = FFTImageDataGenerator(train_df)\n",
        "val_gen = FFTImageDataGenerator(val_df, shuffle=False)\n"
      ],
      "metadata": {
        "id": "4YQfKkKNC3Z8"
      },
      "execution_count": 71,
      "outputs": []
    },
    {
      "cell_type": "markdown",
      "source": [
        "##Dual path FFT + CNN"
      ],
      "metadata": {
        "id": "yWOHLAlHH-uN"
      }
    },
    {
      "cell_type": "markdown",
      "source": [
        "###FFT Integration\n",
        "Original Code:\n",
        "FFT was defined via a custom FourierAttention layer, which operated on the feature map after the base model. However, this didn't truly use frequency information from the input image — it just tried to extract attention from activations.\n",
        "\n",
        "Final Code:\n",
        "FFT is explicitly applied on the input image itself before the model sees it. The FFT-transformed image is passed as a separate input alongside the RGB image, giving the model actual frequency-domain data to learn from.\n"
      ],
      "metadata": {
        "id": "53_ERlwzHCPe"
      }
    },
    {
      "cell_type": "markdown",
      "source": [
        "###Model Input Design\n",
        "Original Code:\n",
        "Single-input model. It only takes RGB images resized to 224x224x3.\n",
        "\n",
        "Final Code:\n",
        "Dual-input model. It takes:\n",
        "\n",
        "RGB image\n",
        "\n",
        "Corresponding FFT grayscale image\n",
        "Both are processed through the same InceptionV3 base (shared weights)."
      ],
      "metadata": {
        "id": "NDz_5kZHHJm8"
      }
    },
    {
      "cell_type": "code",
      "source": [
        "def create_fft_dual_model(input_shape=(224, 224, 3), fft_shape=(224, 224, 1), num_classes=2):\n",
        "    # RGB Branch with InceptionV3\n",
        "    rgb_input = layers.Input(shape=input_shape)\n",
        "    base_model = InceptionV3(weights='imagenet', include_top=False, input_tensor=rgb_input)\n",
        "    base_model.trainable = False\n",
        "    rgb_features = layers.GlobalAveragePooling2D()(base_model.output)\n",
        "\n",
        "    # FFT Branch\n",
        "    fft_input = layers.Input(shape=fft_shape)\n",
        "    x = layers.Conv2D(16, (3, 3), activation='relu')(fft_input)\n",
        "    x = layers.MaxPooling2D()(x)\n",
        "    x = layers.Conv2D(32, (3, 3), activation='relu')(x)\n",
        "    x = layers.GlobalAveragePooling2D()(x)\n",
        "\n",
        "    # Merge\n",
        "    combined = layers.Concatenate()([rgb_features, x])\n",
        "    combined = layers.Dense(128, activation='relu')(combined)\n",
        "    combined = layers.Dropout(0.5)(combined)\n",
        "    output = layers.Dense(num_classes, activation='softmax')(combined)\n",
        "\n",
        "    model = models.Model(inputs=[rgb_input, fft_input], outputs=output)\n",
        "    model.compile(optimizer='adam', loss='categorical_crossentropy', metrics=['accuracy'])\n",
        "    return model\n"
      ],
      "metadata": {
        "id": "rvENaKzxC5Jb"
      },
      "execution_count": 72,
      "outputs": []
    },
    {
      "cell_type": "code",
      "source": [
        "model = create_fft_dual_model()\n",
        "history = model.fit(train_gen, validation_data=val_gen, epochs=5, verbose=1)\n"
      ],
      "metadata": {
        "colab": {
          "base_uri": "https://localhost:8080/"
        },
        "id": "LTk4Q2XmC6X0",
        "outputId": "791dfc06-bf92-4a35-e5bf-8e55de1b33f1"
      },
      "execution_count": 74,
      "outputs": [
        {
          "output_type": "stream",
          "name": "stdout",
          "text": [
            "Epoch 1/5\n",
            "\u001b[1m4375/4375\u001b[0m \u001b[32m━━━━━━━━━━━━━━━━━━━━\u001b[0m\u001b[37m\u001b[0m \u001b[1m1742s\u001b[0m 395ms/step - accuracy: 0.7613 - loss: 0.4959 - val_accuracy: 0.7951 - val_loss: 0.4226\n",
            "Epoch 2/5\n",
            "\u001b[1m4375/4375\u001b[0m \u001b[32m━━━━━━━━━━━━━━━━━━━━\u001b[0m\u001b[37m\u001b[0m \u001b[1m949s\u001b[0m 211ms/step - accuracy: 0.8061 - loss: 0.4199 - val_accuracy: 0.8111 - val_loss: 0.4008\n",
            "Epoch 3/5\n",
            "\u001b[1m4375/4375\u001b[0m \u001b[32m━━━━━━━━━━━━━━━━━━━━\u001b[0m\u001b[37m\u001b[0m \u001b[1m798s\u001b[0m 182ms/step - accuracy: 0.8169 - loss: 0.4030 - val_accuracy: 0.8157 - val_loss: 0.3939\n",
            "Epoch 4/5\n",
            "\u001b[1m4375/4375\u001b[0m \u001b[32m━━━━━━━━━━━━━━━━━━━━\u001b[0m\u001b[37m\u001b[0m \u001b[1m867s\u001b[0m 198ms/step - accuracy: 0.8198 - loss: 0.3954 - val_accuracy: 0.8224 - val_loss: 0.3867\n",
            "Epoch 5/5\n",
            "\u001b[1m4375/4375\u001b[0m \u001b[32m━━━━━━━━━━━━━━━━━━━━\u001b[0m\u001b[37m\u001b[0m \u001b[1m807s\u001b[0m 184ms/step - accuracy: 0.8226 - loss: 0.3893 - val_accuracy: 0.8146 - val_loss: 0.3960\n"
          ]
        }
      ]
    },
    {
      "cell_type": "code",
      "source": [
        "y_pred = model.predict(val_gen)\n",
        "y_pred_classes = np.argmax(y_pred, axis=1)\n",
        "y_true = val_gen.df['label'].map({'Real': 0, 'Fake': 1}).values[:len(y_pred_classes)]\n",
        "\n",
        "cm = confusion_matrix(y_true, y_pred_classes)\n",
        "plt.figure(figsize=(6, 6))\n",
        "sns.heatmap(cm, annot=True, fmt='d', cmap='Blues', xticklabels=['Real', 'Fake'], yticklabels=['Real', 'Fake'])\n",
        "plt.title('Confusion Matrix')\n",
        "plt.xlabel('Predicted')\n",
        "plt.ylabel('True')\n",
        "plt.show()\n",
        "\n",
        "print(\"Classification Report:\")\n",
        "print(classification_report(y_true, y_pred_classes, target_names=['Real', 'Fake']))\n"
      ],
      "metadata": {
        "colab": {
          "base_uri": "https://localhost:8080/",
          "height": 764
        },
        "id": "p-WB3VZDC7X0",
        "outputId": "bde6738e-fa10-4cac-d1b8-ee9719dc79ad"
      },
      "execution_count": 75,
      "outputs": [
        {
          "output_type": "stream",
          "name": "stdout",
          "text": [
            "\u001b[1m1232/1232\u001b[0m \u001b[32m━━━━━━━━━━━━━━━━━━━━\u001b[0m\u001b[37m\u001b[0m \u001b[1m194s\u001b[0m 151ms/step\n"
          ]
        },
        {
          "output_type": "display_data",
          "data": {
            "text/plain": [
              "<Figure size 600x600 with 2 Axes>"
            ],
            "image/png": "[encoded data removed]"
          },
          "metadata": {}
        },
        {
          "output_type": "stream",
          "name": "stdout",
          "text": [
            "Classification Report:\n",
            "              precision    recall  f1-score   support\n",
            "\n",
            "        Real       0.85      0.77      0.81     19787\n",
            "        Fake       0.79      0.86      0.82     19637\n",
            "\n",
            "    accuracy                           0.81     39424\n",
            "   macro avg       0.82      0.81      0.81     39424\n",
            "weighted avg       0.82      0.81      0.81     39424\n",
            "\n"
          ]
        }
      ]
    },
    {
      "cell_type": "code",
      "source": [],
      "metadata": {
        "id": "rSv_qrODKE0L"
      },
      "execution_count": null,
      "outputs": []
    }
  ]
}